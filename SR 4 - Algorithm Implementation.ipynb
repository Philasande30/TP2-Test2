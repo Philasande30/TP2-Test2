{
 "cells": [
  {
   "cell_type": "code",
   "execution_count": 1,
   "id": "30b17a8c-93cf-4fe3-87f0-26328237c38c",
   "metadata": {},
   "outputs": [],
   "source": [
    "import pandas as pd"
   ]
  },
  {
   "cell_type": "code",
   "execution_count": 2,
   "id": "e64ac803-6b1d-44e9-adde-00f0934c5412",
   "metadata": {},
   "outputs": [],
   "source": [
    "# Load the dataset\n",
    "df = pd.read_csv(\"C:/Users/MS Mthethwa/Desktop/Nana/City Development Index.csv.xls\")"
   ]
  },
  {
   "cell_type": "code",
   "execution_count": 3,
   "id": "16db3ad3-e082-4667-b033-2534d857743c",
   "metadata": {},
   "outputs": [
    {
     "name": "stdout",
     "output_type": "stream",
     "text": [
      "Original dataset:\n",
      "     No.             City                   Country        Region   CDI  \\\n",
      "0      1          Abidjan             C?te d'Ivoire        Africa  39.7   \n",
      "1      2            Accra                     Ghana        Africa  46.6   \n",
      "2      3     Antananarivo                Madagascar        Africa  34.5   \n",
      "3      4           Bangui  Central African Republic        Africa  27.5   \n",
      "4      5           Banjul                    Gambia        Africa  40.5   \n",
      "..   ...              ...                       ...           ...   ...   \n",
      "156  158          Tbilisi                   Georgia  Transitional  72.2   \n",
      "157  159           Troyan                  Bulgaria  Transitional  64.8   \n",
      "158  160   Veliko Tarnovo                  Bulgaria  Transitional  71.5   \n",
      "159  161  Veliky Novgorod        Russian Federation  Transitional  76.2   \n",
      "160  162          Vilnius                 Lithuania  Transitional  83.3   \n",
      "\n",
      "     City Product  Infrastructure  Waste  Health  Education  Unnamed: 10  \\\n",
      "0            56.6            21.7   29.0    94.6       42.4          NaN   \n",
      "1            49.4            50.0    0.0    94.0       62.0          NaN   \n",
      "2            44.4            22.5    0.0    92.7       52.5          NaN   \n",
      "3            42.0            14.9    0.1    90.2       36.8          NaN   \n",
      "4            46.0            16.0   48.0    87.8       37.8          NaN   \n",
      "..            ...             ...    ...     ...        ...          ...   \n",
      "156          58.6            88.2   47.5    64.6       85.5          NaN   \n",
      "157          66.9            81.5    4.5    62.3       90.5          NaN   \n",
      "158          64.2            98.0   28.0    65.9       85.6          NaN   \n",
      "159          67.5            86.2   49.0    87.0       97.5          NaN   \n",
      "160          75.2            88.9   77.0    53.9       88.3          NaN   \n",
      "\n",
      "     Unnamed: 11  Unnamed: 12  Unnamed: 13  Unnamed: 14  \n",
      "0            NaN          NaN          NaN          NaN  \n",
      "1            NaN          NaN          NaN          NaN  \n",
      "2            NaN          NaN          NaN          NaN  \n",
      "3            NaN          NaN          NaN          NaN  \n",
      "4            NaN          NaN          NaN          NaN  \n",
      "..           ...          ...          ...          ...  \n",
      "156          NaN          NaN          NaN          NaN  \n",
      "157          NaN          NaN          NaN          NaN  \n",
      "158          NaN          NaN          NaN          NaN  \n",
      "159          NaN          NaN          NaN          NaN  \n",
      "160          NaN          NaN          NaN          NaN  \n",
      "\n",
      "[161 rows x 15 columns]\n"
     ]
    }
   ],
   "source": [
    "# SR 4.1: Algorithm Implementation\n",
    "print(\"Original dataset:\")\n",
    "print(df)\n",
    "\n",
    "# Bubble sort algorithm\n",
    "def bubble_sort(arr):\n",
    "    n = len(arr)\n",
    "    for i in range(n):\n",
    "        for j in range(0, n-i-1):\n",
    "            if arr[j] > arr[j+1]:\n",
    "                arr[j], arr[j+1] = arr[j+1], arr[j]\n",
    "    return arr\n",
    "\n",
    "# Extract the 'Health' column as a list\n",
    "health_values = df['Health'].tolist()\n",
    "\n",
    "# Sort the 'Health' column using bubble sort\n",
    "sorted_health_values = bubble_sort(health_values)"
   ]
  },
  {
   "cell_type": "code",
   "execution_count": 4,
   "id": "de5beb6c-edc0-4460-8f84-d8ed16c82d09",
   "metadata": {},
   "outputs": [
    {
     "name": "stdout",
     "output_type": "stream",
     "text": [
      "\n",
      "Dataset with 'Health' column sorted in ascending order:\n",
      "     No.             City                   Country        Region   CDI  \\\n",
      "0      1          Abidjan             C?te d'Ivoire        Africa  39.7   \n",
      "1      2            Accra                     Ghana        Africa  46.6   \n",
      "2      3     Antananarivo                Madagascar        Africa  34.5   \n",
      "3      4           Bangui  Central African Republic        Africa  27.5   \n",
      "4      5           Banjul                    Gambia        Africa  40.5   \n",
      "..   ...              ...                       ...           ...   ...   \n",
      "156  158          Tbilisi                   Georgia  Transitional  72.2   \n",
      "157  159           Troyan                  Bulgaria  Transitional  64.8   \n",
      "158  160   Veliko Tarnovo                  Bulgaria  Transitional  71.5   \n",
      "159  161  Veliky Novgorod        Russian Federation  Transitional  76.2   \n",
      "160  162          Vilnius                 Lithuania  Transitional  83.3   \n",
      "\n",
      "     City Product  Infrastructure  Waste  Health  Education  Unnamed: 10  \\\n",
      "0            56.6            21.7   29.0    26.4       42.4          NaN   \n",
      "1            49.4            50.0    0.0    29.0       62.0          NaN   \n",
      "2            44.4            22.5    0.0    31.8       52.5          NaN   \n",
      "3            42.0            14.9    0.1    32.5       36.8          NaN   \n",
      "4            46.0            16.0   48.0    35.0       37.8          NaN   \n",
      "..            ...             ...    ...     ...        ...          ...   \n",
      "156          58.6            88.2   47.5    94.0       85.5          NaN   \n",
      "157          66.9            81.5    4.5    94.1       90.5          NaN   \n",
      "158          64.2            98.0   28.0    94.5       85.6          NaN   \n",
      "159          67.5            86.2   49.0    94.6       97.5          NaN   \n",
      "160          75.2            88.9   77.0    94.9       88.3          NaN   \n",
      "\n",
      "     Unnamed: 11  Unnamed: 12  Unnamed: 13  Unnamed: 14  \n",
      "0            NaN          NaN          NaN          NaN  \n",
      "1            NaN          NaN          NaN          NaN  \n",
      "2            NaN          NaN          NaN          NaN  \n",
      "3            NaN          NaN          NaN          NaN  \n",
      "4            NaN          NaN          NaN          NaN  \n",
      "..           ...          ...          ...          ...  \n",
      "156          NaN          NaN          NaN          NaN  \n",
      "157          NaN          NaN          NaN          NaN  \n",
      "158          NaN          NaN          NaN          NaN  \n",
      "159          NaN          NaN          NaN          NaN  \n",
      "160          NaN          NaN          NaN          NaN  \n",
      "\n",
      "[161 rows x 15 columns]\n"
     ]
    }
   ],
   "source": [
    "# Assign the sorted values back to the 'Health' column\n",
    "df['Health'] = sorted_health_values\n",
    "\n",
    "# Display the sorted dataset\n",
    "print(\"\\nDataset with 'Health' column sorted in ascending order:\")\n",
    "print(df)"
   ]
  },
  {
   "cell_type": "markdown",
   "id": "05c4d69f-ad9f-4249-a847-0656fd8135fd",
   "metadata": {},
   "source": [
    "#SR 4.2: Algorithm Implementation\n",
    "### Linear vs. Binary Search Performance\n",
    "\n",
    "#### Linear Search\n",
    "Linear search checks each element in the list sequentially until it finds the target or reaches the end of the list.\n",
    "\n",
    "- **Time Complexity**: O(n)\n",
    "- **Use Case**: Effective for small or unsorted datasets but inefficient for larger datasets.\n",
    "\n",
    "#### Binary Search\n",
    "Binary search works on sorted lists and repeatedly divides the search interval in half.\n",
    "\n",
    "- **Time Complexity**: O(log n)\n",
    "- **Use Case**: Much faster for large, sorted datasets but requires sorting for unsorted data, which adds O(n log n) complexity.\n",
    "\n",
    "### Conclusion\n",
    "Binary search is generally faster than linear search due to its logarithmic time complexity, especially for large datasets. However, linear search is simpler and can be as effective for small or unsorted datasets."
   ]
  },
  {
   "cell_type": "code",
   "execution_count": 5,
   "id": "719ea831-38e5-4701-b6af-f7c1771dd9e2",
   "metadata": {},
   "outputs": [
    {
     "name": "stdout",
     "output_type": "stream",
     "text": [
      "Linear Search: Element 7 found at index 3\n",
      "Binary Search: Element 7 found at index 3\n"
     ]
    }
   ],
   "source": [
    "def linear_search(arr, target):\n",
    "  \n",
    "    for i in range(len(arr)):\n",
    "        if arr[i] == target:\n",
    "            return i\n",
    "    return -1\n",
    "\n",
    "def binary_search(arr, target):\n",
    "   \n",
    "    left, right = 0, len(arr) - 1\n",
    "    \n",
    "    while left <= right:\n",
    "        mid = left + (right - left) // 2\n",
    "        \n",
    "        # Check if target is present at mid\n",
    "        if arr[mid] == target:\n",
    "            return mid\n",
    "        # If target is greater, ignore the left half\n",
    "        elif arr[mid] < target:\n",
    "            left = mid + 1\n",
    "        # If target is smaller, ignore the right half\n",
    "        else:\n",
    "            right = mid - 1\n",
    "    \n",
    "    return -1\n",
    "\n",
    "# Example usage:\n",
    "dataset = [1, 3, 5, 7, 9, 11, 13, 15, 17, 19]\n",
    "\n",
    "# Linear Search\n",
    "target = 7\n",
    "index = linear_search(dataset, target)\n",
    "print(f'Linear Search: Element {target} found at index {index}')\n",
    "\n",
    "# Binary Search\n",
    "# Note: Dataset must be sorted for binary search\n",
    "index = binary_search(dataset, target)\n",
    "print(f'Binary Search: Element {target} found at index {index}')\n"
   ]
  },
  {
   "cell_type": "code",
   "execution_count": null,
   "id": "6035eb2e-ca3b-4791-af3c-95e73970676c",
   "metadata": {},
   "outputs": [],
   "source": []
  }
 ],
 "metadata": {
  "kernelspec": {
   "display_name": "Python 3 (ipykernel)",
   "language": "python",
   "name": "python3"
  },
  "language_info": {
   "codemirror_mode": {
    "name": "ipython",
    "version": 3
   },
   "file_extension": ".py",
   "mimetype": "text/x-python",
   "name": "python",
   "nbconvert_exporter": "python",
   "pygments_lexer": "ipython3",
   "version": "3.12.3"
  }
 },
 "nbformat": 4,
 "nbformat_minor": 5
}
