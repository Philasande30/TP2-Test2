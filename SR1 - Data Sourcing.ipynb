{
 "cells": [
  {
   "cell_type": "code",
   "execution_count": 1,
   "id": "d1f77ab5-8df4-4e17-8fc6-269959625b98",
   "metadata": {},
   "outputs": [],
   "source": [
    "import pandas as pd"
   ]
  },
  {
   "cell_type": "code",
   "execution_count": 2,
   "id": "581f1d79-5994-4019-b814-f93c8782001d",
   "metadata": {},
   "outputs": [],
   "source": [
    "# Load the dataset\n",
    "df = pd.read_csv(\"C:/Users/MS Mthethwa/Desktop/Nana/City Development Index.csv.xls\")"
   ]
  },
  {
   "cell_type": "markdown",
   "id": "0b72360e-a6eb-4fae-ad04-a9ac47463db1",
   "metadata": {},
   "source": [
    "## SR1 - Data Sourcing:\n",
    "The dataset used for this analysis is obtained from a site called Kaggal in a file named \"City Development Index.csv.xls\". It contains a few indicators of city development, including economic, infrastructural, health, and educational metrics.\n",
    "\n",
    "Justification of Suitability\n",
    "The dataset has been chosen based on several key factors:\n",
    "\n",
    "-**Data Completeness** :\n",
    "The dataset includes critical columns such as City Product, Infrastructure, Health, Education, and the City Development Index (CDI). These columns are well-populated, ensuring minimal issues with missing data.\n",
    "Relevance:\n",
    "\n",
    "The columns in this dataset are highly relevant to the analysis of city development. For instance:\n",
    "-**City Product:** This column provides information on the economic output of cities, which is a fundamental aspect of urban development.\n",
    "-**City Development Index (CDI)**: This composite index encapsulates various development indicators, making it a comprehensive measure of city development.\n",
    "\n",
    "    \n",
    "    Credibility of the Source:\n",
    "While the specific source of this file is not provided, datasets of this nature are typically compiled by reputable organizations such as the United Nations, World Bank, or other international bodies focused on urban development. This enhances the credibility of the data.\n",
    "\n",
    "    \n",
    "    Theme Relevance:\n",
    "The theme of this analysis is to explore the factors contributing to city development. The dataset provides a variety of development indicators (such as infrastructure, health, and education) that are directly relevant to this theme. This enables a comprehensive analysis of how different factors contribute to the overall development of cities.\n",
    "By ensuring the dataset is complete, relevant, and focusing on well-established development metrics, we can confidently proceed with the analysis, expecting to derive meaningful and accurate insights."
   ]
  }
 ],
 "metadata": {
  "kernelspec": {
   "display_name": "Python 3 (ipykernel)",
   "language": "python",
   "name": "python3"
  },
  "language_info": {
   "codemirror_mode": {
    "name": "ipython",
    "version": 3
   },
   "file_extension": ".py",
   "mimetype": "text/x-python",
   "name": "python",
   "nbconvert_exporter": "python",
   "pygments_lexer": "ipython3",
   "version": "3.12.3"
  }
 },
 "nbformat": 4,
 "nbformat_minor": 5
}
