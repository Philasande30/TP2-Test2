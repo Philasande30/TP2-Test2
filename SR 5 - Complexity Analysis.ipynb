{
 "cells": [
  {
   "cell_type": "code",
   "execution_count": 1,
   "id": "aff44e08-b6c0-4977-bddd-1a5f452c3f87",
   "metadata": {},
   "outputs": [],
   "source": [
    "import pandas as pd"
   ]
  },
  {
   "cell_type": "code",
   "execution_count": 2,
   "id": "5f3df98a-0dea-489d-b1d3-cb3a71388271",
   "metadata": {},
   "outputs": [],
   "source": [
    "# Load the dataset\n",
    "df = pd.read_csv(\"C:/Users/MS Mthethwa/Desktop/Nana/City Development Index.csv.xls\")"
   ]
  },
  {
   "cell_type": "markdown",
   "id": "10aa3ba7-9340-468a-8be6-f4b8578a27eb",
   "metadata": {},
   "source": [
    "#SR 5: Complexity Analysis: \n",
    "Bubble sort is a simple sorting algorithm that repeatedly steps through the list, compares adjacent elements, and swaps them if they are in the wrong order. This process is repeated until the list is sorted.\n",
    "\n",
    "Time Complexity:\n",
    "The time complexity of bubble sort depends on the number of comparisons and swaps it performs. In the worst-case scenario, when the list is in reverse order, it requires n - 1 passes to sort n elements. During each pass, it makes n - 1 comparisons and possibly swaps elements. Therefore, the time complexity of bubble sort is:\n",
    "\n",
    "𝑂\n",
    "(\n",
    "𝑛\n",
    "2\n",
    ")\n",
    "O(n \n",
    "2\n",
    " )\n",
    "\n",
    "Space Complexity:\n",
    "Bubble sort is an in-place sorting algorithm, meaning it sorts the list by modifying the order of the elements within the list itself without needing additional space for storage. Thus, the space complexity of bubble sort is:\n",
    "\n",
    "𝑂\n",
    "(\n",
    "1\n",
    ")\n",
    "O(1)\n",
    "\n",
    "Efficiency in terms of Big-O Notation:\n",
    "Time Complexity: Bubble sort is not efficient for large datasets due to its quadratic time complexity. As the number of elements increases, the number of comparisons and swaps grows quadratically, making it slow compared to more efficient sorting algorithms like merge sort or quicksort.\n",
    "\n",
    "Space Complexity: Bubble sort is efficient in terms of space as it operates in constant space, meaning it does not require additional space proportional to the size of the input. However, its time complexity limits its practical efficiency, especially for large datasets.\n",
    "\n",
    "In summary, while bubble sort is easy to understand and implement, it is inefficient for sorting large datasets due to its quadratic time complexity. It is mainly used for educational purposes or for small datasets where simplicity is prioritized over efficiency. For large datasets, more efficient sorting algorithms such as merge sort or quicksort are preferred.\n"
   ]
  },
  {
   "cell_type": "code",
   "execution_count": null,
   "id": "25280be4-4ac5-4ebd-84f3-2551218f9557",
   "metadata": {},
   "outputs": [],
   "source": []
  }
 ],
 "metadata": {
  "kernelspec": {
   "display_name": "Python 3 (ipykernel)",
   "language": "python",
   "name": "python3"
  },
  "language_info": {
   "codemirror_mode": {
    "name": "ipython",
    "version": 3
   },
   "file_extension": ".py",
   "mimetype": "text/x-python",
   "name": "python",
   "nbconvert_exporter": "python",
   "pygments_lexer": "ipython3",
   "version": "3.12.3"
  }
 },
 "nbformat": 4,
 "nbformat_minor": 5
}
