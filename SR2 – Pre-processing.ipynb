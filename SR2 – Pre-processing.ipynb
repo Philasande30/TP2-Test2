{
 "cells": [
  {
   "cell_type": "code",
   "execution_count": 1,
   "id": "7c671a5b-ea0e-4596-8ba2-d5f16cda2d41",
   "metadata": {},
   "outputs": [],
   "source": [
    "import pandas as pd"
   ]
  },
  {
   "cell_type": "code",
   "execution_count": 2,
   "id": "b81cab23-bd2f-49a0-a609-32a8677f4f4d",
   "metadata": {},
   "outputs": [],
   "source": [
    "# Load the dataset\n",
    "df = pd.read_csv(\"C:/Users/MS Mthethwa/Desktop/Nana/City Development Index.csv.xls\")"
   ]
  },
  {
   "cell_type": "code",
   "execution_count": 3,
   "id": "9cb63bfb-3ed2-49ad-99de-f3e63028137b",
   "metadata": {},
   "outputs": [
    {
     "name": "stdout",
     "output_type": "stream",
     "text": [
      "\n",
      "First 5 rows of the dataset:\n",
      "   No.          City                   Country  Region   CDI  City Product  \\\n",
      "0    1       Abidjan             C?te d'Ivoire  Africa  39.7          56.6   \n",
      "1    2         Accra                     Ghana  Africa  46.6          49.4   \n",
      "2    3  Antananarivo                Madagascar  Africa  34.5          44.4   \n",
      "3    4        Bangui  Central African Republic  Africa  27.5          42.0   \n",
      "4    5        Banjul                    Gambia  Africa  40.5          46.0   \n",
      "\n",
      "   Infrastructure  Waste  Health  Education  Unnamed: 10  Unnamed: 11  \\\n",
      "0            21.7   29.0    94.6       42.4          NaN          NaN   \n",
      "1            50.0    0.0    94.0       62.0          NaN          NaN   \n",
      "2            22.5    0.0    92.7       52.5          NaN          NaN   \n",
      "3            14.9    0.1    90.2       36.8          NaN          NaN   \n",
      "4            16.0   48.0    87.8       37.8          NaN          NaN   \n",
      "\n",
      "   Unnamed: 12  Unnamed: 13  Unnamed: 14  \n",
      "0          NaN          NaN          NaN  \n",
      "1          NaN          NaN          NaN  \n",
      "2          NaN          NaN          NaN  \n",
      "3          NaN          NaN          NaN  \n",
      "4          NaN          NaN          NaN  \n"
     ]
    }
   ],
   "source": [
    "# Display the first few rows of the dataset\n",
    "print(\"\\nFirst 5 rows of the dataset:\")\n",
    "print(df.head())"
   ]
  },
  {
   "cell_type": "code",
   "execution_count": 4,
   "id": "be319112-54e9-4244-b9ba-14161a4e44ad",
   "metadata": {},
   "outputs": [
    {
     "name": "stdout",
     "output_type": "stream",
     "text": [
      "Column names:\n",
      "Index(['No.', 'City', 'Country', 'Region', 'CDI', 'City Product',\n",
      "       'Infrastructure', 'Waste', 'Health', 'Education', 'Unnamed: 10',\n",
      "       'Unnamed: 11', 'Unnamed: 12', 'Unnamed: 13', 'Unnamed: 14'],\n",
      "      dtype='object')\n"
     ]
    }
   ],
   "source": [
    "# Display of column names\n",
    "print(\"Column names:\")\n",
    "print(df.columns)"
   ]
  },
  {
   "cell_type": "code",
   "execution_count": 5,
   "id": "dee09642-0927-40d6-9419-705b91ff80ce",
   "metadata": {},
   "outputs": [
    {
     "name": "stdout",
     "output_type": "stream",
     "text": [
      "Dataset size:\n",
      "(161, 15)\n"
     ]
    }
   ],
   "source": [
    "# size of the dataset\n",
    "print(\"Dataset size:\")\n",
    "print(df.shape)"
   ]
  },
  {
   "cell_type": "code",
   "execution_count": 6,
   "id": "9bcf3452-9f9c-4996-beb0-1d5b320c1882",
   "metadata": {},
   "outputs": [
    {
     "name": "stdout",
     "output_type": "stream",
     "text": [
      "Dataset Info:\n",
      "<class 'pandas.core.frame.DataFrame'>\n",
      "RangeIndex: 161 entries, 0 to 160\n",
      "Data columns (total 15 columns):\n",
      " #   Column          Non-Null Count  Dtype  \n",
      "---  ------          --------------  -----  \n",
      " 0   No.             161 non-null    int64  \n",
      " 1   City            161 non-null    object \n",
      " 2   Country         161 non-null    object \n",
      " 3   Region          161 non-null    object \n",
      " 4   CDI             161 non-null    float64\n",
      " 5   City Product    161 non-null    float64\n",
      " 6   Infrastructure  161 non-null    float64\n",
      " 7   Waste           161 non-null    float64\n",
      " 8   Health          161 non-null    float64\n",
      " 9   Education       161 non-null    float64\n",
      " 10  Unnamed: 10     0 non-null      float64\n",
      " 11  Unnamed: 11     0 non-null      float64\n",
      " 12  Unnamed: 12     0 non-null      float64\n",
      " 13  Unnamed: 13     0 non-null      float64\n",
      " 14  Unnamed: 14     0 non-null      float64\n",
      "dtypes: float64(11), int64(1), object(3)\n",
      "memory usage: 19.0+ KB\n",
      "None\n"
     ]
    }
   ],
   "source": [
    "# Basic information about the dataset\n",
    "print(\"Dataset Info:\")\n",
    "print(df.info())"
   ]
  },
  {
   "cell_type": "code",
   "execution_count": 7,
   "id": "a682c46f-c180-4357-b7ff-f7b564c938b8",
   "metadata": {},
   "outputs": [
    {
     "name": "stdout",
     "output_type": "stream",
     "text": [
      "\n",
      "Missing values in every column:\n",
      "No.                 0\n",
      "City                0\n",
      "Country             0\n",
      "Region              0\n",
      "CDI                 0\n",
      "City Product        0\n",
      "Infrastructure      0\n",
      "Waste               0\n",
      "Health              0\n",
      "Education           0\n",
      "Unnamed: 10       161\n",
      "Unnamed: 11       161\n",
      "Unnamed: 12       161\n",
      "Unnamed: 13       161\n",
      "Unnamed: 14       161\n",
      "dtype: int64\n"
     ]
    }
   ],
   "source": [
    "# Check for missing values\n",
    "print(\"\\nMissing values in every column:\")\n",
    "print(df.isnull().sum())"
   ]
  },
  {
   "cell_type": "code",
   "execution_count": 8,
   "id": "8aea2496-911d-4571-811a-8cc1bab93618",
   "metadata": {},
   "outputs": [
    {
     "name": "stdout",
     "output_type": "stream",
     "text": [
      "\n",
      "Rows with missing values:\n",
      "     No.             City                   Country        Region   CDI  \\\n",
      "0      1          Abidjan             C?te d'Ivoire        Africa  39.7   \n",
      "1      2            Accra                     Ghana        Africa  46.6   \n",
      "2      3     Antananarivo                Madagascar        Africa  34.5   \n",
      "3      4           Bangui  Central African Republic        Africa  27.5   \n",
      "4      5           Banjul                    Gambia        Africa  40.5   \n",
      "..   ...              ...                       ...           ...   ...   \n",
      "156  158          Tbilisi                   Georgia  Transitional  72.2   \n",
      "157  159           Troyan                  Bulgaria  Transitional  64.8   \n",
      "158  160   Veliko Tarnovo                  Bulgaria  Transitional  71.5   \n",
      "159  161  Veliky Novgorod        Russian Federation  Transitional  76.2   \n",
      "160  162          Vilnius                 Lithuania  Transitional  83.3   \n",
      "\n",
      "     City Product  Infrastructure  Waste  Health  Education  Unnamed: 10  \\\n",
      "0            56.6            21.7   29.0    94.6       42.4          NaN   \n",
      "1            49.4            50.0    0.0    94.0       62.0          NaN   \n",
      "2            44.4            22.5    0.0    92.7       52.5          NaN   \n",
      "3            42.0            14.9    0.1    90.2       36.8          NaN   \n",
      "4            46.0            16.0   48.0    87.8       37.8          NaN   \n",
      "..            ...             ...    ...     ...        ...          ...   \n",
      "156          58.6            88.2   47.5    64.6       85.5          NaN   \n",
      "157          66.9            81.5    4.5    62.3       90.5          NaN   \n",
      "158          64.2            98.0   28.0    65.9       85.6          NaN   \n",
      "159          67.5            86.2   49.0    87.0       97.5          NaN   \n",
      "160          75.2            88.9   77.0    53.9       88.3          NaN   \n",
      "\n",
      "     Unnamed: 11  Unnamed: 12  Unnamed: 13  Unnamed: 14  \n",
      "0            NaN          NaN          NaN          NaN  \n",
      "1            NaN          NaN          NaN          NaN  \n",
      "2            NaN          NaN          NaN          NaN  \n",
      "3            NaN          NaN          NaN          NaN  \n",
      "4            NaN          NaN          NaN          NaN  \n",
      "..           ...          ...          ...          ...  \n",
      "156          NaN          NaN          NaN          NaN  \n",
      "157          NaN          NaN          NaN          NaN  \n",
      "158          NaN          NaN          NaN          NaN  \n",
      "159          NaN          NaN          NaN          NaN  \n",
      "160          NaN          NaN          NaN          NaN  \n",
      "\n",
      "[161 rows x 15 columns]\n"
     ]
    }
   ],
   "source": [
    "# Rows with missing values\n",
    "print(\"\\nRows with missing values:\")\n",
    "print(df[df.isnull().any(axis=1)])"
   ]
  },
  {
   "cell_type": "code",
   "execution_count": 9,
   "id": "73a65b3f-107a-4c33-854f-6e8e428c27ac",
   "metadata": {},
   "outputs": [],
   "source": [
    "import numpy as np"
   ]
  },
  {
   "cell_type": "code",
   "execution_count": 10,
   "id": "9ee7c660-7f52-4385-b87e-2f34b23faa64",
   "metadata": {},
   "outputs": [
    {
     "name": "stdout",
     "output_type": "stream",
     "text": [
      "\n",
      "Missing values after handling:\n",
      "No.                 0\n",
      "City                0\n",
      "Country             0\n",
      "Region              0\n",
      "CDI                 0\n",
      "City Product        0\n",
      "Infrastructure      0\n",
      "Waste               0\n",
      "Health              0\n",
      "Education           0\n",
      "Unnamed: 10       161\n",
      "Unnamed: 11       161\n",
      "Unnamed: 12       161\n",
      "Unnamed: 13       161\n",
      "Unnamed: 14       161\n",
      "dtype: int64\n"
     ]
    }
   ],
   "source": [
    "# Fill missing numerical values with the mean of the column\n",
    "numerical_columns = df.select_dtypes(include=[np.number]).columns\n",
    "df[numerical_columns] = df[numerical_columns].fillna(df[numerical_columns].mean())\n",
    "\n",
    "# Fill missing categorical values with the mode of the column\n",
    "categorical_columns = df.select_dtypes(include=[object]).columns\n",
    "df[categorical_columns] = df[categorical_columns].fillna(df[categorical_columns].mode().iloc[0])\n",
    "\n",
    "# Verify if there are any missing values left\n",
    "print(\"\\nMissing values after handling:\")\n",
    "print(df.isnull().sum())"
   ]
  },
  {
   "cell_type": "code",
   "execution_count": 11,
   "id": "c5683f9f-2c3b-4cb6-8281-2011c2bd222c",
   "metadata": {},
   "outputs": [
    {
     "name": "stdout",
     "output_type": "stream",
     "text": [
      "\n",
      "First 5 rows after standardization:\n",
      "        No.          City                   Country  Region       CDI  \\\n",
      "0 -1.723859       Abidjan             C?te d'Ivoire  Africa -1.404385   \n",
      "1 -1.702503         Accra                     Ghana  Africa -1.021756   \n",
      "2 -1.681147  Antananarivo                Madagascar  Africa -1.692744   \n",
      "3 -1.659791        Bangui  Central African Republic  Africa -2.080918   \n",
      "4 -1.638436        Banjul                    Gambia  Africa -1.360023   \n",
      "\n",
      "   City Product  Infrastructure     Waste    Health  Education  Unnamed: 10  \\\n",
      "0     -0.486458       -1.933768 -0.468143  1.179385  -1.516117          NaN   \n",
      "1     -0.970204       -0.759414 -1.384951  1.138800  -0.547742          NaN   \n",
      "2     -1.306138       -1.900571 -1.384951  1.050863  -1.017107          NaN   \n",
      "3     -1.467387       -2.215945 -1.381789  0.881756  -1.792796          NaN   \n",
      "4     -1.198639       -2.170299  0.132524  0.719412  -1.743389          NaN   \n",
      "\n",
      "   Unnamed: 11  Unnamed: 12  Unnamed: 13  Unnamed: 14  \n",
      "0          NaN          NaN          NaN          NaN  \n",
      "1          NaN          NaN          NaN          NaN  \n",
      "2          NaN          NaN          NaN          NaN  \n",
      "3          NaN          NaN          NaN          NaN  \n",
      "4          NaN          NaN          NaN          NaN  \n"
     ]
    },
    {
     "name": "stderr",
     "output_type": "stream",
     "text": [
      "C:\\Users\\MS Mthethwa\\AppData\\Local\\Programs\\Python\\Python312\\Lib\\site-packages\\sklearn\\utils\\extmath.py:1137: RuntimeWarning: invalid value encountered in divide\n",
      "  updated_mean = (last_sum + new_sum) / updated_sample_count\n",
      "C:\\Users\\MS Mthethwa\\AppData\\Local\\Programs\\Python\\Python312\\Lib\\site-packages\\sklearn\\utils\\extmath.py:1142: RuntimeWarning: invalid value encountered in divide\n",
      "  T = new_sum / new_sample_count\n",
      "C:\\Users\\MS Mthethwa\\AppData\\Local\\Programs\\Python\\Python312\\Lib\\site-packages\\sklearn\\utils\\extmath.py:1162: RuntimeWarning: invalid value encountered in divide\n",
      "  new_unnormalized_variance -= correction**2 / new_sample_count\n"
     ]
    }
   ],
   "source": [
    "from sklearn.preprocessing import StandardScaler\n",
    "\n",
    "# Identify numerical columns\n",
    "numerical_cols = df.select_dtypes(include=['int64', 'float64']).columns\n",
    "\n",
    "# Fill missing values with mean (or any other appropriate method)\n",
    "df[numerical_cols] = df[numerical_cols].fillna(df[numerical_cols].mean())\n",
    "\n",
    "# Standardize the numerical columns\n",
    "scaler = StandardScaler()\n",
    "df[numerical_cols] = scaler.fit_transform(df[numerical_cols])\n",
    "\n",
    "# Display the first few rows to verify changes\n",
    "print(\"\\nFirst 5 rows after standardization:\")\n",
    "print(df.head())\n"
   ]
  },
  {
   "cell_type": "code",
   "execution_count": 12,
   "id": "f725fa12-bfd5-4f93-be94-733bab0532ab",
   "metadata": {},
   "outputs": [
    {
     "name": "stdout",
     "output_type": "stream",
     "text": [
      "                No.           CDI  City Product  Infrastructure       Waste  \\\n",
      "count  1.610000e+02  1.610000e+02  1.610000e+02    1.610000e+02  161.000000   \n",
      "mean   8.826618e-17 -9.267949e-16  3.971978e-16    2.647985e-16    0.000000   \n",
      "std    1.003120e+00  1.003120e+00  1.003120e+00    1.003120e+00    1.003120   \n",
      "min   -1.723859e+00 -2.402548e+00 -2.226599e+00   -2.639211e+00   -1.384951   \n",
      "25%   -8.696230e-01 -6.446726e-01 -8.223927e-01   -7.594139e-01   -0.879126   \n",
      "50%    5.969041e-03  1.704936e-01  3.088093e-02    2.697023e-01    0.037682   \n",
      "75%    8.602052e-01  6.862111e-01  6.960312e-01    8.423556e-01    0.669963   \n",
      "max    1.714441e+00  1.828553e+00  2.241330e+00    1.307118e+00    1.776454   \n",
      "\n",
      "             Health     Education  Unnamed: 10  Unnamed: 11  Unnamed: 12  \\\n",
      "count  1.610000e+02  1.610000e+02          0.0          0.0          0.0   \n",
      "mean   3.199649e-16  7.943956e-16          NaN          NaN          NaN   \n",
      "std    1.003120e+00  1.003120e+00          NaN          NaN          NaN   \n",
      "min   -3.433877e+00 -3.067494e+00          NaN          NaN          NaN   \n",
      "25%   -3.155279e-01 -5.477415e-01          NaN          NaN          NaN   \n",
      "50%    3.000246e-01  2.872352e-01          NaN          NaN          NaN   \n",
      "75%    6.382403e-01  7.467194e-01          NaN          NaN          NaN   \n",
      "max    1.199678e+00  1.319840e+00          NaN          NaN          NaN   \n",
      "\n",
      "       Unnamed: 13  Unnamed: 14  \n",
      "count          0.0          0.0  \n",
      "mean           NaN          NaN  \n",
      "std            NaN          NaN  \n",
      "min            NaN          NaN  \n",
      "25%            NaN          NaN  \n",
      "50%            NaN          NaN  \n",
      "75%            NaN          NaN  \n",
      "max            NaN          NaN  \n"
     ]
    }
   ],
   "source": [
    "# Display summary statistics\n",
    "summary_stats = df.describe()\n",
    "print(summary_stats)"
   ]
  },
  {
   "cell_type": "markdown",
   "id": "09195ec1-31df-4e83-80c1-3bf28227de7e",
   "metadata": {},
   "source": [
    "# data types that are used in relation to machine learning\n",
    "-**No. (Number)**:This column likely represents a unique identifier for each entry in the dataset.\n",
    "Data Type: Integer\n",
    "City:\n",
    "Represents the name of a city.\n",
    "Data Type: String\n",
    "Country:\n",
    "Indicates the country to which the city belongs.\n",
    "Data Type: String\n",
    "-**Region**: Specifies the geographical region or continent where the city is located.\n",
    "Data Type: String\n",
    "-**CDI (City Development Index)**:Represents a numerical measure of a city's development level.\n",
    "Data Type: Float or Integer\n",
    "-**City Product**:Likely refers to the economic output or gross domestic product (GDP) of the city.\n",
    "Data Type: Float or Integer\n",
    "-**Infrastructure**:Represents the quality or level of infrastructure in the city (e.g., transportation, utilities).\n",
    "Data Type: Float or Integer\n",
    "-**Waste**:Indicates metrics related to waste management or environmental sustainability in the city.\n",
    "Data Type: Float or Integer\n",
    "-**Health**:Represents indicators of public health such as healthcare facilities, life expectancy, etc.\n",
    "Data Type: Float or Integer\n",
    "-**Education**:Indicates metrics related to education such as literacy rate, school enrollment, etc.\n",
    "Data Type: Float or Integer\n",
    "-**Unnamed: 10, Unnamed: 11, Unnamed: 12, Unnamed: 13, Unnamed: 14**: These columns seem to be unnamed and may contain additional information or could be empty columns.\n",
    "Data Type: Depends on the content, could be Float, Integer, or String\n",
    "\n",
    "\n",
    "In summary, machine learning and statistical datasets often contain a variety of data types including integers, floats, and strings. Understanding the data types of each column is crucial for data preprocessing, feature engineering, and model building in machine learning tasks."
   ]
  },
  {
   "cell_type": "code",
   "execution_count": null,
   "id": "029bf4ee-ccb7-4130-8e07-fc2ba8750286",
   "metadata": {},
   "outputs": [],
   "source": []
  }
 ],
 "metadata": {
  "kernelspec": {
   "display_name": "Python 3 (ipykernel)",
   "language": "python",
   "name": "python3"
  },
  "language_info": {
   "codemirror_mode": {
    "name": "ipython",
    "version": 3
   },
   "file_extension": ".py",
   "mimetype": "text/x-python",
   "name": "python",
   "nbconvert_exporter": "python",
   "pygments_lexer": "ipython3",
   "version": "3.12.3"
  }
 },
 "nbformat": 4,
 "nbformat_minor": 5
}
